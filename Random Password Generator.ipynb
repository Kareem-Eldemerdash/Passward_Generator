{
 "cells": [
  {
   "cell_type": "markdown",
   "id": "4e890194",
   "metadata": {},
   "source": [
    "# Random Password Generator"
   ]
  },
  {
   "cell_type": "code",
   "execution_count": 3,
   "id": "9c3dc6e6",
   "metadata": {},
   "outputs": [
    {
     "name": "stdout",
     "output_type": "stream",
     "text": [
      "Welcome, Your Random Password Generator! \n",
      "enter the lenth(8-16) of your password please!: 12\n",
      "your password is:\n",
      " ,%7Ij{W0gh9D\n"
     ]
    }
   ],
   "source": [
    "import random\n",
    "import string\n",
    "\n",
    "#greeting the user\n",
    "print('Welcome, Your Random Password Generator! ')\n",
    "#input the lenght of the password and you can modify the code to extend the lenth of your password\n",
    "password_lenth = input('enter the lenth(8-16) of your password please!: ')\n",
    "\n",
    "\n",
    "#while loop for checking about the input \n",
    "while True:\n",
    "    #if it is not number in the available range or not that return a correction message and one more traial\n",
    "    if not(password_lenth.isnumeric()) or not (8<= int(password_lenth) <=16):\n",
    "        print ('password lenth shoud be more than 8 and less than 16 ')\n",
    "        password_lenth = input('enter the lenth of your password please!: ')\n",
    "    #change the input from string to integer and break the loop\n",
    "    else:\n",
    "        password_lenth=int(password_lenth)\n",
    "        break\n",
    "        \n",
    "        \n",
    "        \n",
    "#creating a list from all caracters can be printed(lowercase+uppercase+digits+punctuation)\n",
    "all_printable = random.sample(string.ascii_lowercase,(password_lenth+3)//4) + random.sample(string.ascii_uppercase,(password_lenth+3)//4) + random.sample(string.digits,(password_lenth+3)//4) + random.sample(string.punctuation,(password_lenth+3)//4)\n",
    "\n",
    "\n",
    "#shuffle the list\n",
    "random.shuffle(all_printable)\n",
    "\n",
    "\n",
    "#random sample from the the list to create the password\n",
    "password =''.join(random.sample(all_printable,password_lenth))\n",
    "\n",
    "\n",
    "#output the password\n",
    "print('your password is:\\n',password)\n"
   ]
  },
  {
   "cell_type": "code",
   "execution_count": null,
   "id": "d9ac013d",
   "metadata": {},
   "outputs": [],
   "source": []
  }
 ],
 "metadata": {
  "kernelspec": {
   "display_name": "Python 3 (ipykernel)",
   "language": "python",
   "name": "python3"
  },
  "language_info": {
   "codemirror_mode": {
    "name": "ipython",
    "version": 3
   },
   "file_extension": ".py",
   "mimetype": "text/x-python",
   "name": "python",
   "nbconvert_exporter": "python",
   "pygments_lexer": "ipython3",
   "version": "3.9.7"
  }
 },
 "nbformat": 4,
 "nbformat_minor": 5
}
